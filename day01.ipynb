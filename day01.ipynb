{
 "cells": [
  {
   "cell_type": "markdown",
   "id": "20b55832-0bb3-49c0-8a86-d0cbc9181458",
   "metadata": {},
   "source": [
    "python"
   ]
  },
  {
   "cell_type": "markdown",
   "id": "0f46adb6-21f8-4166-b48b-7853088551b6",
   "metadata": {},
   "source": [
    "# vijay\n",
    "## vijay \n",
    "### vijay"
   ]
  },
  {
   "cell_type": "code",
   "execution_count": 4,
   "id": "6003e1da-f4b0-4681-bc4d-c535e6aa2374",
   "metadata": {},
   "outputs": [
    {
     "name": "stdout",
     "output_type": "stream",
     "text": [
      "hello world \n",
      " this is vijay\n"
     ]
    }
   ],
   "source": [
    "print('hello world \\n this is vijay')"
   ]
  },
  {
   "cell_type": "code",
   "execution_count": 7,
   "id": "276d56f8-b178-4563-8d85-5bde7b0cd135",
   "metadata": {},
   "outputs": [
    {
     "name": "stdout",
     "output_type": "stream",
     "text": [
      "my name is vijay and my age is 21\n",
      "my name is vijay and my age is 21\n"
     ]
    }
   ],
   "source": [
    "# fstring and .format\n",
    "\n",
    "name='vijay'\n",
    "age='21'\n",
    "print(f'my name is {name} and my age is {age}')\n",
    "print('my name is {} and my age is {}'.format(name,age))"
   ]
  },
  {
   "cell_type": "code",
   "execution_count": 13,
   "id": "bb6babb3-5fb6-4799-b633-f936df251641",
   "metadata": {},
   "outputs": [
    {
     "name": "stdin",
     "output_type": "stream",
     "text": [
      "enter price of product:  10000\n"
     ]
    },
    {
     "name": "stdout",
     "output_type": "stream",
     "text": [
      "the discounted price is 6000.0\n"
     ]
    }
   ],
   "source": [
    "#if-else if-elif-else nested if\n",
    "\n",
    "price=int(input('enter price of product: '))\n",
    "\n",
    "if price<=1000:\n",
    "    price=price-price*20/100\n",
    "    print('the discounted price is {}'.format(price))\n",
    "\n",
    "elif price>=2000 and price<=3000:\n",
    "    if price==2999:\n",
    "        print('you have won the lottery!')\n",
    "        price=price-price*30/100\n",
    "        print('the discounted price is {}'.format(price))\n",
    "    \n",
    "    else:\n",
    "        price=price-price*30/100\n",
    "        print('the discounted price is {}'.format(price))\n",
    "   \n",
    "else: \n",
    "     price=price-price*40/100\n",
    "     print('the discounted price is {}'.format(price))\n",
    "   \n",
    "\n",
    "        "
   ]
  },
  {
   "cell_type": "code",
   "execution_count": 28,
   "id": "59d82983-e048-4a82-b7fe-d10cb0fced1b",
   "metadata": {},
   "outputs": [
    {
     "name": "stdout",
     "output_type": "stream",
     "text": [
      "*\n",
      "**\n",
      "***\n",
      "****\n",
      "*****\n",
      "******\n",
      "*******\n",
      "********\n"
     ]
    }
   ],
   "source": [
    "# to draw a right angled triangle\n",
    "for i in range(0,8):\n",
    "    for j in range(0, i+1):\n",
    "        print('*',end='')\n",
    "    \n",
    "    print('\\r')\n",
    "       "
   ]
  },
  {
   "cell_type": "code",
   "execution_count": null,
   "id": "e7e65679-6d57-4f13-97b5-9f041b50c8e6",
   "metadata": {},
   "outputs": [],
   "source": [
    "#nested loop\n",
    "\n",
    "for i in range(0,8):\n",
    "    for j in range(0,i+1):\n",
    "        print('*',end=\"\")\n",
    "    print(\"\\r\")"
   ]
  },
  {
   "cell_type": "code",
   "execution_count": 30,
   "id": "3c943700-6b59-4508-8943-19b2a369d08d",
   "metadata": {},
   "outputs": [
    {
     "data": {
      "text/plain": [
       "'gninrom doog'"
      ]
     },
     "execution_count": 30,
     "metadata": {},
     "output_type": "execute_result"
    }
   ],
   "source": [
    "# string reversal\n",
    "\n",
    "#1\n",
    "\n",
    "string='good morning'\n",
    "string[::-1]"
   ]
  },
  {
   "cell_type": "code",
   "execution_count": 31,
   "id": "5a6b5d38-0823-43c9-a4db-40a797de6e75",
   "metadata": {},
   "outputs": [
    {
     "data": {
      "text/plain": [
       "<reversed at 0x7fba1978af20>"
      ]
     },
     "execution_count": 31,
     "metadata": {},
     "output_type": "execute_result"
    }
   ],
   "source": [
    "#2 \n",
    "\n",
    "reversed(string)"
   ]
  },
  {
   "cell_type": "code",
   "execution_count": 32,
   "id": "7c73953d-4923-46f9-8da0-98ad51434cf7",
   "metadata": {},
   "outputs": [
    {
     "data": {
      "text/plain": [
       "'gninrom doog'"
      ]
     },
     "execution_count": 32,
     "metadata": {},
     "output_type": "execute_result"
    }
   ],
   "source": [
    "''.join(reversed(string))"
   ]
  },
  {
   "cell_type": "code",
   "execution_count": 33,
   "id": "44385c1b-6a97-466f-832d-95fa46ca4bc2",
   "metadata": {},
   "outputs": [
    {
     "data": {
      "text/plain": [
       "'g.o.o.d. .m.o.r.n.i.n.g'"
      ]
     },
     "execution_count": 33,
     "metadata": {},
     "output_type": "execute_result"
    }
   ],
   "source": [
    "'.'.join(string)"
   ]
  },
  {
   "cell_type": "code",
   "execution_count": 41,
   "id": "03a74ebe-c5f5-46f2-8f34-c6bb90cadfb6",
   "metadata": {},
   "outputs": [
    {
     "name": "stdin",
     "output_type": "stream",
     "text": [
      "enter a string india\n"
     ]
    },
    {
     "name": "stdout",
     "output_type": "stream",
     "text": [
      "i\n",
      "n\n",
      "d\n",
      "i\n"
     ]
    }
   ],
   "source": [
    "# code to remove last letter of string\n",
    "\n",
    "s=str(input('enter a string'))\n",
    "for i in s:\n",
    "    if i==s[::-1][0]:\n",
    "        break\n",
    "    else:\n",
    "        print(i)        \n",
    "    \n",
    "        "
   ]
  },
  {
   "cell_type": "code",
   "execution_count": 43,
   "id": "37c8478a-763c-45b0-a20d-ea6c11423d86",
   "metadata": {},
   "outputs": [
    {
     "name": "stdin",
     "output_type": "stream",
     "text": [
      "enter a string vijay\n"
     ]
    },
    {
     "name": "stdout",
     "output_type": "stream",
     "text": [
      "5\n"
     ]
    },
    {
     "data": {
      "text/plain": [
       "5"
      ]
     },
     "execution_count": 43,
     "metadata": {},
     "output_type": "execute_result"
    }
   ],
   "source": [
    "# code to count number of characters in a string\n",
    "\n",
    "s=str(input('enter a string'))\n",
    "a=0\n",
    "\n",
    "for i in s:\n",
    "    a=a+1\n",
    "print(a)    \n",
    "len(s)"
   ]
  },
  {
   "cell_type": "code",
   "execution_count": 50,
   "id": "8af20fe2-add3-4c67-90e6-3dc73bd9268a",
   "metadata": {},
   "outputs": [
    {
     "name": "stdout",
     "output_type": "stream",
     "text": [
      "[[ 2  4  6]\n",
      " [ 8 10 12]\n",
      " [14 16 18]]\n"
     ]
    }
   ],
   "source": [
    "# matrix addition- list , arrays is easier\n",
    "\n",
    "import numpy as np\n",
    "\n",
    "a=np.array([[1,2,3],[4,5,6],[7,8,9]])\n",
    "b=np.array([[1,2,3],[4,5,6],[7,8,9]])\n",
    "c=a+b\n",
    "print(c)\n"
   ]
  },
  {
   "cell_type": "markdown",
   "id": "21885cd4-97a6-4a73-abd1-19498878acd1",
   "metadata": {},
   "source": [
    "# functions"
   ]
  },
  {
   "cell_type": "code",
   "execution_count": 51,
   "id": "dfc01e08-798b-4bdc-9209-00a22fdad50c",
   "metadata": {},
   "outputs": [
    {
     "name": "stdin",
     "output_type": "stream",
     "text": [
      "enter no of elements of list:  5\n",
      "enter element to be added in list:  1\n",
      "enter element to be added in list:  2\n",
      "enter element to be added in list:  a\n",
      "enter element to be added in list:  3\n",
      "enter element to be added in list:  4\n"
     ]
    },
    {
     "name": "stdout",
     "output_type": "stream",
     "text": [
      "['1', '2', 'a', '3', '4']\n"
     ]
    }
   ],
   "source": [
    "# function to filter out numeric values of list:\n",
    "l=[]\n",
    "n=int(input('enter no of elements of list: '))\n",
    "for i in range(n):\n",
    "    a=input('enter element to be added in list: ')\n",
    "    l.append(a)\n",
    "print(l)    "
   ]
  },
  {
   "cell_type": "code",
   "execution_count": 61,
   "id": "6eff7b41-1cc5-4811-bdc9-8907d7ee8278",
   "metadata": {},
   "outputs": [],
   "source": [
    "def filter(list1):\n",
    "    for i in list1:\n",
    "        if type(i)==int:\n",
    "            list1.remove(i)\n",
    "    return list1        "
   ]
  },
  {
   "cell_type": "code",
   "execution_count": 54,
   "id": "2ab51083-80a4-427c-a7a0-a6677ef31e1b",
   "metadata": {},
   "outputs": [
    {
     "data": {
      "text/plain": [
       "['1', '2', 'a', '3', '4']"
      ]
     },
     "execution_count": 54,
     "metadata": {},
     "output_type": "execute_result"
    }
   ],
   "source": [
    "l"
   ]
  },
  {
   "cell_type": "code",
   "execution_count": 55,
   "id": "83d886de-cb1d-4bfd-89df-07fff9d3618a",
   "metadata": {},
   "outputs": [
    {
     "data": {
      "text/plain": [
       "['1', '2', 'a', '3', '4']"
      ]
     },
     "execution_count": 55,
     "metadata": {},
     "output_type": "execute_result"
    }
   ],
   "source": [
    "filter(l)"
   ]
  },
  {
   "cell_type": "code",
   "execution_count": 65,
   "id": "1802c83e-d1e0-4ffd-b130-7ffa737cf007",
   "metadata": {},
   "outputs": [
    {
     "data": {
      "text/plain": [
       "[2, 'abc']"
      ]
     },
     "execution_count": 65,
     "metadata": {},
     "output_type": "execute_result"
    }
   ],
   "source": [
    "l1=[1,2,3,'abc']\n",
    "filter(l1)"
   ]
  },
  {
   "cell_type": "code",
   "execution_count": 66,
   "id": "c0bef940-ee9f-4e84-ab3a-7e3e66f273c3",
   "metadata": {},
   "outputs": [
    {
     "data": {
      "text/plain": [
       "[2, 'abc']"
      ]
     },
     "execution_count": 66,
     "metadata": {},
     "output_type": "execute_result"
    }
   ],
   "source": [
    "l1"
   ]
  },
  {
   "cell_type": "code",
   "execution_count": 67,
   "id": "c77c383a-e208-4047-801b-4e9b4e804cab",
   "metadata": {},
   "outputs": [
    {
     "data": {
      "text/plain": [
       "['abc']"
      ]
     },
     "execution_count": 67,
     "metadata": {},
     "output_type": "execute_result"
    }
   ],
   "source": [
    "filter(l1)"
   ]
  },
  {
   "cell_type": "markdown",
   "id": "3e8c1aaf-e73c-4c8c-ab8f-d43f36a13b9a",
   "metadata": {},
   "source": [
    "# plotting trignometric functions using numpy and matplotlib"
   ]
  },
  {
   "cell_type": "code",
   "execution_count": 3,
   "id": "95ba9c16-bcab-4099-96a4-4bedfd46f16f",
   "metadata": {},
   "outputs": [],
   "source": [
    "import numpy as np\n",
    "import matplotlib.pyplot as plt"
   ]
  },
  {
   "cell_type": "code",
   "execution_count": 4,
   "id": "ba1b887f-5866-481e-94de-0eebd3e11da1",
   "metadata": {},
   "outputs": [
    {
     "data": {
      "text/plain": [
       "3.141592653589793"
      ]
     },
     "execution_count": 4,
     "metadata": {},
     "output_type": "execute_result"
    }
   ],
   "source": [
    "np.pi"
   ]
  },
  {
   "cell_type": "code",
   "execution_count": 6,
   "id": "ffd52fc8-9c78-4ea3-9844-d5c5a64bd83c",
   "metadata": {},
   "outputs": [
    {
     "data": {
      "text/plain": [
       "1.2246467991473532e-16"
      ]
     },
     "execution_count": 6,
     "metadata": {},
     "output_type": "execute_result"
    }
   ],
   "source": [
    "np.sin(np.pi)"
   ]
  },
  {
   "cell_type": "code",
   "execution_count": 7,
   "id": "3c899ffd-234e-44b8-acbf-fa7f167ed34c",
   "metadata": {},
   "outputs": [],
   "source": [
    "# program to plot a sine graph:\n",
    "plt.style.use('dark_background')"
   ]
  },
  {
   "cell_type": "code",
   "execution_count": 14,
   "id": "d24288b3-fcfc-486c-81e8-37b2d9c3d113",
   "metadata": {},
   "outputs": [
    {
     "data": {
      "image/png": "[encoded data removed]",
      "text/plain": [
       "<Figure size 640x480 with 1 Axes>"
      ]
     },
     "metadata": {},
     "output_type": "display_data"
    },
    {
     "data": {
      "text/plain": [
       "<Figure size 200x200 with 0 Axes>"
      ]
     },
     "metadata": {},
     "output_type": "display_data"
    },
    {
     "data": {
      "text/plain": [
       "<Figure size 600x600 with 0 Axes>"
      ]
     },
     "metadata": {},
     "output_type": "display_data"
    }
   ],
   "source": [
    "# plotting a linear line:\n",
    "x=np.arange(0,10)\n",
    "y=np.arange(10,110,10)\n",
    "plt.plot(x,y,'r--')\n",
    "a=plt.figure(figsize=(2,2))\n",
    "b=plt.figure(figsize=(6,6))\n"
   ]
  },
  {
   "cell_type": "code",
   "execution_count": 22,
   "id": "7cdc20d3-5640-4be0-913c-387125dbdea2",
   "metadata": {},
   "outputs": [
    {
     "data": {
      "image/png": "[encoded data removed]",
      "text/plain": [
       "<Figure size 640x480 with 1 Axes>"
      ]
     },
     "metadata": {},
     "output_type": "display_data"
    }
   ],
   "source": [
    "# plotting a sine wave:\n",
    "sin_x=np.arange(0,2*np.pi,0.1)\n",
    "sin_y=np.sin(sin_x)\n",
    "plt.plot(sin_x,sin_y,'b-')\n",
    "plt.title('sine_curve')\n",
    "plt.show()\n"
   ]
  },
  {
   "cell_type": "code",
   "execution_count": 32,
   "id": "786a0fbb-9af8-4b3b-bd71-f8eb87d9068a",
   "metadata": {},
   "outputs": [
    {
     "data": {
      "image/png": "[encoded data removed]",
      "text/plain": [
       "<Figure size 640x480 with 1 Axes>"
      ]
     },
     "metadata": {},
     "output_type": "display_data"
    }
   ],
   "source": [
    "# plotting a cos curve:\n",
    "cos_x=np.arange(0,2*np.pi,0.1)\n",
    "cos_y=np.cos(cos_x)\n",
    "plt.plot(cos_x,cos_y,'g-')\n",
    "plt.title('cos_curve')\n",
    "plt.show()\n"
   ]
  },
  {
   "cell_type": "code",
   "execution_count": 34,
   "id": "72e6244a-1859-419a-8c5d-8b7c56ca5f4a",
   "metadata": {},
   "outputs": [
    {
     "data": {
      "image/png": "[encoded data removed]",
      "text/plain": [
       "<Figure size 600x600 with 2 Axes>"
      ]
     },
     "metadata": {},
     "output_type": "display_data"
    }
   ],
   "source": [
    "#using subplot\n",
    "\n",
    "plt.figure(figsize=(6,6))\n",
    "plt.subplot(2,2,1)\n",
    "plt.plot(sin_x,sin_y,'r-')\n",
    "plt.title('sin_curve')\n",
    "\n",
    "plt.subplot(2,2,2)\n",
    "plt.plot(cos_x,cos_y,'b-')\n",
    "plt.title('cos_curve')\n",
    "plt.show()"
   ]
  },
  {
   "cell_type": "code",
   "execution_count": null,
   "id": "f451decc-08f6-41cb-82d7-ee06b2fbe29b",
   "metadata": {},
   "outputs": [],
   "source": []
  }
 ],
 "metadata": {
  "kernelspec": {
   "display_name": "Python 3 (ipykernel)",
   "language": "python",
   "name": "python3"
  },
  "language_info": {
   "codemirror_mode": {
    "name": "ipython",
    "version": 3
   },
   "file_extension": ".py",
   "mimetype": "text/x-python",
   "name": "python",
   "nbconvert_exporter": "python",
   "pygments_lexer": "ipython3",
   "version": "3.10.8"
  }
 },
 "nbformat": 4,
 "nbformat_minor": 5
}
